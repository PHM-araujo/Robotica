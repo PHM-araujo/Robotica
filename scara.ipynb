{
 "cells": [
  {
   "attachments": {},
   "cell_type": "markdown",
   "metadata": {},
   "source": [
    "# Trabalho Extra robôtica "
   ]
  },
  {
   "attachments": {},
   "cell_type": "markdown",
   "metadata": {},
   "source": [
    "## 1) Importat bibliotecas necessárias \n"
   ]
  },
  {
   "cell_type": "code",
   "execution_count": 2,
   "metadata": {},
   "outputs": [],
   "source": [
    "import numpy as np "
   ]
  },
  {
   "attachments": {},
   "cell_type": "markdown",
   "metadata": {},
   "source": [
    "## 2) MTHs do robô Scara \n"
   ]
  },
  {
   "cell_type": "code",
   "execution_count": 19,
   "metadata": {},
   "outputs": [
    {
     "name": "stdout",
     "output_type": "stream",
     "text": [
      "[[ 3.61402561e-01 -8.29769466e-01  0.00000000e+00  3.06511111e+02]\n",
      " [ 9.16593554e-01  2.11018828e-01  0.00000000e+00  3.59882745e+02]\n",
      " [ 0.00000000e+00  0.00000000e+00  1.00000000e+00  9.00000000e+01]\n",
      " [ 0.00000000e+00  0.00000000e+00  0.00000000e+00  1.00000000e+00]]\n"
     ]
    }
   ],
   "source": [
    "\n",
    "def MTHS(theta1, theta2, theta3, l1, l2, l0, c):\n",
    "    theat1_rad = np.radians(theta1)\n",
    "    theat2_rad = np.radians(theta2)\n",
    "    theat3_rad = np.radians(theta3)\n",
    "    T01 = np.matrix([[np.cos(theat1_rad), -np.sin(theat1_rad), 0, l1*np.cos(theat1_rad)], \n",
    "                    [np.sin(theat1_rad), np.cos(theat1_rad), 0, l1*np.sin(theat1_rad)],\n",
    "                    [0, 0, 1, 0], \n",
    "                    [0, 0, 0, 1]])\n",
    "    T12 = np.matrix([[np.cos(theat2_rad), np.sin(theat2_rad), 0, l2*np.cos(theat2_rad)], \n",
    "                    [np.sin(theat2_rad), -np.cos(theat1_rad), 0, l2*np.sin(theat2_rad)],\n",
    "                    [0, 0, -1, 0], \n",
    "                    [0, 0, 0, 1]])\n",
    "    T23 = np.matrix([[1, 0, 0, 0], \n",
    "                    [0, -1, 0, 0],\n",
    "                    [0, 0, -1, c], \n",
    "                    [0, 0, 0, 1]])\n",
    "    T34 = np.matrix([[np.cos(theat3_rad), -np.sin(theat3_rad), 0, 0], \n",
    "                    [np.sin(theat3_rad), np.cos(theat3_rad), 0, 0],\n",
    "                    [0, 0, 1, l0], \n",
    "                    [0, 0, 0, 1]])\n",
    "\n",
    "    T04 = np.matmul(np.matmul(np.matmul(T01, T12), T23), T34);\n",
    "\n",
    "    print(T04)\n",
    "\n",
    "MTHS(40, 20, 10, 250, 230, 100, 10)"
   ]
  },
  {
   "attachments": {},
   "cell_type": "markdown",
   "metadata": {},
   "source": [
    "## 3) Cinemática inversa em relação ao punho\n",
    "\n",
    "![Robô Scara](./ScaraDH.jpg)"
   ]
  },
  {
   "cell_type": "code",
   "execution_count": 23,
   "metadata": {},
   "outputs": [
    {
     "name": "stdout",
     "output_type": "stream",
     "text": [
      "Angulo da junta 1:  43.04772552109242\n",
      "Angulo da junta 2:  42.63764729078552\n"
     ]
    }
   ],
   "source": [
    "def cinematInversa(x, y, l1 = 250, l2 = 230):\n",
    "    cos_theata2 = np.divide(np.power(x, 2) + np.power(y, 2) - np.power(l1, 2) - np.power(l2, 2), 2*l1*l2)\n",
    "    theta2_rad = np.arctan2(np.sqrt(1 - np.power(cos_theata2, 2)), cos_theata2)\n",
    "    theta1_rad = np.arctan2(y, x) - np.arctan2(l2*np.sin(theta2_rad), l1 + l2*np.cos(theta2_rad))\n",
    "\n",
    "\n",
    "    print(\"Angulo da junta 1: \", np.rad2deg(theta1_rad))\n",
    "    print(\"Angulo da junta 2: \", np.rad2deg(theta2_rad))\n",
    "\n",
    "cinematInversa(200, 400)"
   ]
  },
  {
   "attachments": {},
   "cell_type": "markdown",
   "metadata": {},
   "source": [
    "## 4) Definir valores dos parâmetros de DH "
   ]
  },
  {
   "attachments": {},
   "cell_type": "markdown",
   "metadata": {},
   "source": [
    "\n",
    "thetai | di  | ai | alphai |  \n",
    "------ | --- | ---| --- |\n",
    "theta1 | 0  | 250 | 0 |\n",
    "theta2 | 0  | 230 | 180 |\n",
    "0      | C | 0   | 180 |\n",
    "theta3 | 100| 0   | 0 |\n"
   ]
  },
  {
   "attachments": {},
   "cell_type": "markdown",
   "metadata": {},
   "source": [
    "## 5) Cinemática inversa de uma trajetoria circular "
   ]
  },
  {
   "cell_type": "code",
   "execution_count": 22,
   "metadata": {},
   "outputs": [
    {
     "name": "stdout",
     "output_type": "stream",
     "text": [
      "Angulo da junta 1:  43.04772552109242\n",
      "Angulo da junta 2:  42.63764729078552\n"
     ]
    }
   ],
   "source": [
    "x = float(input(\"Entre com a posição do em punho em x: \"))\n",
    "y = float(input(\"Entre com a posição do em punho em y: \"))\n",
    "\n",
    "cinematInversa(x, y)"
   ]
  }
 ],
 "metadata": {
  "kernelspec": {
   "display_name": "Python 3",
   "language": "python",
   "name": "python3"
  },
  "language_info": {
   "codemirror_mode": {
    "name": "ipython",
    "version": 3
   },
   "file_extension": ".py",
   "mimetype": "text/x-python",
   "name": "python",
   "nbconvert_exporter": "python",
   "pygments_lexer": "ipython3",
   "version": "3.10.6"
  },
  "orig_nbformat": 4
 },
 "nbformat": 4,
 "nbformat_minor": 2
}
