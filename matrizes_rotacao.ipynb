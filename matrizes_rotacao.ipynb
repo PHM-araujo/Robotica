{
 "cells": [
  {
   "cell_type": "code",
   "execution_count": 1,
   "metadata": {},
   "outputs": [],
   "source": [
    "import numpy as np\n",
    "import math"
   ]
  },
  {
   "attachments": {},
   "cell_type": "markdown",
   "metadata": {},
   "source": [
    "# Matrizes de rotação "
   ]
  },
  {
   "attachments": {},
   "cell_type": "markdown",
   "metadata": {},
   "source": [
    "## Matrizes de rotação para cada eixo:\n",
    "### a) Eixo X:\n",
    "\n"
   ]
  },
  {
   "cell_type": "code",
   "execution_count": 18,
   "metadata": {},
   "outputs": [],
   "source": [
    "def rotX(theta):\n",
    "\n",
    "    return np.array([[1, 0, 0],\n",
    "                   [0, np.cos(theta), -np.sin(theta)],\n",
    "                   [0, np.sin(theta), np.cos(theta)]])\n",
    "    "
   ]
  },
  {
   "attachments": {},
   "cell_type": "markdown",
   "metadata": {},
   "source": [
    "### b) Eixo Y:\n"
   ]
  },
  {
   "cell_type": "code",
   "execution_count": 17,
   "metadata": {},
   "outputs": [],
   "source": [
    "def rotY(theta):\n",
    "\n",
    "    return np.array([  [np.cos(theta), 0, np.sin(theta)],\n",
    "                                [0, 1, 0],\n",
    "                                [-np.sin(theta), 0, np.cos(theta)]])"
   ]
  },
  {
   "attachments": {},
   "cell_type": "markdown",
   "metadata": {},
   "source": [
    "### Eixo Z: "
   ]
  },
  {
   "cell_type": "code",
   "execution_count": 16,
   "metadata": {},
   "outputs": [],
   "source": [
    "def rotZ(theta):\n",
    "\n",
    "    return np.array([  [np.cos(theta), -np.sin(theta), 0],\n",
    "                                [np.sin(theta), np.cos(theta), 0],\n",
    "                                [0, 0, 1]])"
   ]
  },
  {
   "attachments": {},
   "cell_type": "markdown",
   "metadata": {},
   "source": [
    "## Transformações em relações as referências \n",
    "### a) Fixa (eixo inercial): Pré-multiplicação \n",
    "### b) Móvel (eixo no corpo): Pós-multiplicação "
   ]
  },
  {
   "attachments": {},
   "cell_type": "markdown",
   "metadata": {},
   "source": [
    "## Input do usuário \n"
   ]
  },
  {
   "cell_type": "code",
   "execution_count": 23,
   "metadata": {},
   "outputs": [
    {
     "name": "stdout",
     "output_type": "stream",
     "text": [
      "Rotação  0\n",
      "Tipo da rotação fixa (0) ou móvel (1):  0\n",
      "Ângulo da rotação:  1.0471975511965976\n",
      "Eixo da rotação:  y\n",
      "-------------------------\n",
      "Rotação  1\n",
      "Tipo da rotação fixa (0) ou móvel (1):  0\n",
      "Ângulo da rotação:  1.0471975511965976\n",
      "Eixo da rotação:  y\n",
      "-------------------------\n",
      "Rotação  2\n",
      "Tipo da rotação fixa (0) ou móvel (1):  0\n",
      "Ângulo da rotação:  1.0471975511965976\n",
      "Eixo da rotação:  y\n",
      "-------------------------\n",
      "Rotação  3\n",
      "Tipo da rotação fixa (0) ou móvel (1):  0\n",
      "Ângulo da rotação:  1.0471975511965976\n",
      "Eixo da rotação:  y\n",
      "-------------------------\n"
     ]
    }
   ],
   "source": [
    "numRot_str = input(\"Número de rotações: \")\n",
    "numRot_int = int(numRot_str)\n",
    "\n",
    "ref = int(input(\"Transformação em relação a referência fixa (0) ou móvel (1): \"))\n",
    "\n",
    "eixosRot = []\n",
    "angulos = []\n",
    "\n",
    "for i in range(numRot_int):\n",
    "    print(\"Rotação \", i)\n",
    "    eixo = input(\"Entre com o eixo da rotação (x, y ou z): \")\n",
    "    ang = np.radians(float(input(\"Entre com o ângulo de rotação em graus: \")))\n",
    "\n",
    "    if ref:\n",
    "        eixosRot.append(eixo)\n",
    "        angulos.append(ang)\n",
    "    else:\n",
    "        eixosRot.insert(0, eixo)\n",
    "        angulos.insert(0, ang)\n",
    "\n",
    "    print(\"Tipo da rotação fixa (0) ou móvel (1): \", ref)\n",
    "    print(\"Ângulo da rotação: \", angulos[i])\n",
    "    print(\"Eixo da rotação: \", eixosRot[i])\n",
    "    print(\"-------------------------\")\n"
   ]
  },
  {
   "attachments": {},
   "cell_type": "markdown",
   "metadata": {},
   "source": [
    "## Cálculo da composição"
   ]
  },
  {
   "cell_type": "code",
   "execution_count": 24,
   "metadata": {},
   "outputs": [
    {
     "name": "stdout",
     "output_type": "stream",
     "text": [
      "[[ 0.25538596 -0.03085512  0.96634672]\n",
      " [ 0.65580384  0.73994211 -0.14968964]\n",
      " [-0.71042194  0.67196252  0.20920573]]\n"
     ]
    }
   ],
   "source": [
    "matrizComp = []\n",
    "\n",
    "if eixosRot[0] == 'x':\n",
    "    matrizComp = rotX(angulos[0])\n",
    "if eixosRot[0] == 'y':\n",
    "    matrizComp = rotY(angulos[0])\n",
    "if eixosRot[0] == 'z':\n",
    "    matrizComp = rotZ(angulos[0])\n",
    "\n",
    "for i in range(1, numRot_int):\n",
    "    if eixosRot[i] == 'x':\n",
    "        matrizComp = np.matmul(matrizComp, rotX(angulos[i]))\n",
    "    if eixosRot[i] == 'y':\n",
    "        matrizComp = np.matmul(matrizComp, rotY(angulos[i]))\n",
    "    if eixosRot[i] == 'z':\n",
    "        matrizComp = np.matmul(matrizComp, rotZ(angulos[i]))\n",
    "        \n",
    "print(matrizComp)"
   ]
  },
  {
   "attachments": {},
   "cell_type": "markdown",
   "metadata": {},
   "source": [
    "## Rotação do vetor"
   ]
  },
  {
   "cell_type": "code",
   "execution_count": 26,
   "metadata": {},
   "outputs": [
    {
     "name": "stdout",
     "output_type": "stream",
     "text": [
      "Vetor não rotacionado:  [5 7 8]\n",
      "Vetor rotacionado:  [8.792 7.261 2.825]\n"
     ]
    }
   ],
   "source": [
    "x = int(input(\"Entre com a componte x do vetor P: \"))\n",
    "y = int(input(\"Entre com a componte y do vetor P: \"))\n",
    "z = int(input(\"Entre com a componte z do vetor P: \"))\n",
    "\n",
    "p = np.array([x, y, z])\n",
    "\n",
    "print(\"Vetor não rotacionado: \", p)\n",
    "\n",
    "p_rot = np.round(np.matmul(matrizComp, p), 3)\n",
    "\n",
    "print(\"Vetor rotacionado: \",p_rot)"
   ]
  }
 ],
 "metadata": {
  "kernelspec": {
   "display_name": "Python 3",
   "language": "python",
   "name": "python3"
  },
  "language_info": {
   "codemirror_mode": {
    "name": "ipython",
    "version": 3
   },
   "file_extension": ".py",
   "mimetype": "text/x-python",
   "name": "python",
   "nbconvert_exporter": "python",
   "pygments_lexer": "ipython3",
   "version": "3.10.6"
  },
  "orig_nbformat": 4
 },
 "nbformat": 4,
 "nbformat_minor": 2
}
